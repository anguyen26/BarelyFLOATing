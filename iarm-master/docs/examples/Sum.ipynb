{
 "cells": [
  {
   "cell_type": "markdown",
   "metadata": {},
   "source": [
    "In this example,\n",
    "we will write a sample program that will sum all the numbers from 1 to 100\n",
    "\n",
    "In our case, it is easier to sum from 100 to zero.\n",
    "This is because the CPU updates a special register call the\n",
    "Program Status Register with the results of mathematical operations.\n",
    "We will keep subtracting from a counter register until the `Z` flag is set,\n",
    "telling us the number is zero.\n",
    "\n",
    "First, we set a register as a counter, equal to 100"
   ]
  },
  {
   "cell_type": "code",
   "execution_count": 1,
   "metadata": {
    "collapsed": false
   },
   "outputs": [],
   "source": [
    "    MOVS R0, #100"
   ]
  },
  {
   "cell_type": "markdown",
   "metadata": {},
   "source": [
    "Next, we set our result register to an initial value of zero"
   ]
  },
  {
   "cell_type": "code",
   "execution_count": 2,
   "metadata": {
    "collapsed": false
   },
   "outputs": [],
   "source": [
    "    MOVS R1, #0"
   ]
  },
  {
   "cell_type": "markdown",
   "metadata": {},
   "source": [
    "Now we write a loop that\n",
    "1. Adds the value of the counter register into the result register\n",
    "2. Subtracts one from the counter register\n",
    "3. Checks if the counter register is zero\n",
    "\n",
    "If the counter register is not zero, repeat the loop"
   ]
  },
  {
   "cell_type": "code",
   "execution_count": 3,
   "metadata": {
    "collapsed": false
   },
   "outputs": [],
   "source": [
    "loop ADDS R1, R1, R0\n",
    "     SUBS R0, R0, #1\n",
    "     BNE loop ; Branch if Z is not set"
   ]
  },
  {
   "cell_type": "markdown",
   "metadata": {},
   "source": [
    "Lastly, we run the program and ask for the value in register R1.\n",
    "And if all went well, we should get 5050."
   ]
  },
  {
   "cell_type": "code",
   "execution_count": 4,
   "metadata": {
    "collapsed": false
   },
   "outputs": [
    {
     "name": "stdout",
     "output_type": "stream",
     "text": [
      "R1: 5050\n"
     ]
    }
   ],
   "source": [
    "%run\n",
    "%reg R1"
   ]
  },
  {
   "cell_type": "markdown",
   "metadata": {},
   "source": [
    "It is customary to end your program with a\n",
    "branch to itself to make an infinite loop,\n",
    "although this is not necessary for IArm.\n",
    "This is simply done with `B .`"
   ]
  },
  {
   "cell_type": "code",
   "execution_count": 5,
   "metadata": {
    "collapsed": false
   },
   "outputs": [],
   "source": [
    "    B ."
   ]
  },
  {
   "cell_type": "markdown",
   "metadata": {},
   "source": [
    "When run, this will raise an error that we have reached an infinite loop"
   ]
  },
  {
   "cell_type": "code",
   "execution_count": 6,
   "metadata": {
    "collapsed": false
   },
   "outputs": [
    {
     "name": "stdout",
     "output_type": "stream",
     "text": [
      "Error in B: You have reached an infinite loop\n"
     ]
    }
   ],
   "source": [
    "%run"
   ]
  }
 ],
 "metadata": {
  "kernelspec": {
   "display_name": "IArm",
   "language": "ARM",
   "name": "iarm"
  },
  "language_info": {
   "file_extension": ".s",
   "mimetype": "text/x-asm",
   "name": "ARM Coretex M0+ Thumb Assembly"
  }
 },
 "nbformat": 4,
 "nbformat_minor": 0
}
